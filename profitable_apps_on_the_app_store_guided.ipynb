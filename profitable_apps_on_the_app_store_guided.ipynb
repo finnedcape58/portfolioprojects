{
 "cells": [
  {
   "cell_type": "markdown",
   "id": "216acf85",
   "metadata": {},
   "source": [
    "# Analysis of the app store to identify market interests. \n",
    "(Google Play + iOS App Store)"
   ]
  },
  {
   "cell_type": "markdown",
   "id": "a43110b9",
   "metadata": {},
   "source": [
    "This project is an analysis of the digital app stores of the 2 most popular operating systems for mobiles(iOS and Android). With intentions of creating an app, this project will serve as a basic reasearch into the market to see what apps attract the most users. \n",
    "\n",
    "The focus of this project, will be on free to download and install apps, with the main source of revenue coming in from in-app ads. To genereate more revenue, apps that experience good traffic on average will be of key interest.\n",
    "\n",
    "This research method uses a dated dataset, that contains a condensed version of each playstore databasee. In September 2018, there were approximately 2 million iOS apps available in the App Store and 2.1 million on the Google Play market. Collecting data for over 4 million apps would require a significant amount of time and money, so we will analyze a sample instead. There are 2 existing datasets that are suitable for our purpose:\n",
    "\n",
    "- **[Dataset](https://www.kaggle.com/ramamet4/app-store-apple-data-set-10k-apps#AppleStore.csv)** scraped from the iTunes Search API that contains more than 7,000 Apple iOS mobile application details.\n",
    "\n",
    "- **[Dataset](https://dq-content.s3.amazonaws.com/350/googleplaystore.csv)** that contains data of about 10,000 Android apps from the Google Play market.\n",
    "\n",
    "Let us begin by opening the two datasets and continue with our exploration/research:"
   ]
  },
  {
   "cell_type": "code",
   "execution_count": 1,
   "id": "0d136a4d",
   "metadata": {},
   "outputs": [],
   "source": [
    "from csv import reader"
   ]
  },
  {
   "cell_type": "code",
   "execution_count": 2,
   "id": "010fa1a5",
   "metadata": {},
   "outputs": [],
   "source": [
    "## Google Play Dataset\n",
    "opened_file = open('googleplaystore.csv')\n",
    "read_file = reader(opened_file)\n",
    "android = list(read_file)\n",
    "# Assigning the first row to headers variable\n",
    "android_header = android[0] \n",
    "# Assign the data rows, excluding the headers, back to android variable\n",
    "android = android[1:]\n",
    "del android[10472] # known problematic entry"
   ]
  },
  {
   "cell_type": "code",
   "execution_count": 3,
   "id": "ce04a586",
   "metadata": {},
   "outputs": [],
   "source": [
    "## Apple Store Dataset\n",
    "opened_file = open('AppleStore.csv')\n",
    "read_file = reader(opened_file)\n",
    "ios = list(read_file)\n",
    "# Assigning the first row to headers variable\n",
    "ios_header = ios[0] \n",
    "# Assign the data rows, excluding the headers, back to ios variable\n",
    "ios = ios[1:]"
   ]
  },
  {
   "cell_type": "markdown",
   "id": "dd7dbe81",
   "metadata": {},
   "source": [
    "**To be able to explore our datasets, it would be easier to create a function that can be called upon to look at either slices or the entire dataset.**"
   ]
  },
  {
   "cell_type": "code",
   "execution_count": 4,
   "id": "b767f618",
   "metadata": {},
   "outputs": [],
   "source": [
    "def explore(dataset, start=0, end=5, rows_cols=False):\n",
    "    data_slice = dataset[start:end]\n",
    "    for row in data_slice:\n",
    "        print(row,'\\n')\n",
    "    \n",
    "    #row_cols parameter lets you check the number of rows and columns in the dataset when set to true.\n",
    "    if rows_cols:\n",
    "        print('Number of rows:' ,len(dataset))\n",
    "        print('Nuber of columns:', len(dataset[0]))"
   ]
  },
  {
   "cell_type": "markdown",
   "id": "de8e53b2",
   "metadata": {},
   "source": [
    "Using our defined function to explore the android dataset:"
   ]
  },
  {
   "cell_type": "code",
   "execution_count": 5,
   "id": "c190b38b",
   "metadata": {
    "scrolled": true
   },
   "outputs": [
    {
     "name": "stdout",
     "output_type": "stream",
     "text": [
      "['App', 'Category', 'Rating', 'Reviews', 'Size', 'Installs', 'Type', 'Price', 'Content Rating', 'Genres', 'Last Updated', 'Current Ver', 'Android Ver'] \n",
      "\n",
      "['Photo Editor & Candy Camera & Grid & ScrapBook', 'ART_AND_DESIGN', '4.1', '159', '19M', '10,000+', 'Free', '0', 'Everyone', 'Art & Design', 'January 7, 2018', '1.0.0', '4.0.3 and up'] \n",
      "\n",
      "['Coloring book moana', 'ART_AND_DESIGN', '3.9', '967', '14M', '500,000+', 'Free', '0', 'Everyone', 'Art & Design;Pretend Play', 'January 15, 2018', '2.0.0', '4.0.3 and up'] \n",
      "\n",
      "['U Launcher Lite – FREE Live Cool Themes, Hide Apps', 'ART_AND_DESIGN', '4.7', '87510', '8.7M', '5,000,000+', 'Free', '0', 'Everyone', 'Art & Design', 'August 1, 2018', '1.2.4', '4.0.3 and up'] \n",
      "\n",
      "['Sketch - Draw & Paint', 'ART_AND_DESIGN', '4.5', '215644', '25M', '50,000,000+', 'Free', '0', 'Teen', 'Art & Design', 'June 8, 2018', 'Varies with device', '4.2 and up'] \n",
      "\n",
      "['Pixel Draw - Number Art Coloring Book', 'ART_AND_DESIGN', '4.3', '967', '2.8M', '100,000+', 'Free', '0', 'Everyone', 'Art & Design;Creativity', 'June 20, 2018', '1.1', '4.4 and up'] \n",
      "\n",
      "Number of rows: 10840\n",
      "Nuber of columns: 13\n"
     ]
    }
   ],
   "source": [
    "print(android_header,'\\n')\n",
    "explore(android, rows_cols=True)"
   ]
  },
  {
   "cell_type": "markdown",
   "id": "aac405c0",
   "metadata": {},
   "source": [
    "Using our defined function to explore the ios dataset:"
   ]
  },
  {
   "cell_type": "code",
   "execution_count": 6,
   "id": "7f4d80f1",
   "metadata": {},
   "outputs": [
    {
     "name": "stdout",
     "output_type": "stream",
     "text": [
      "['', 'id', 'track_name', 'size_bytes', 'currency', 'price', 'rating_count_tot', 'rating_count_ver', 'user_rating', 'user_rating_ver', 'ver', 'cont_rating', 'prime_genre', 'sup_devices.num', 'ipadSc_urls.num', 'lang.num', 'vpp_lic'] \n",
      "\n",
      "['1', '281656475', 'PAC-MAN Premium', '100788224', 'USD', '3.99', '21292', '26', '4', '4.5', '6.3.5', '4+', 'Games', '38', '5', '10', '1'] \n",
      "\n",
      "['2', '281796108', 'Evernote - stay organized', '158578688', 'USD', '0', '161065', '26', '4', '3.5', '8.2.2', '4+', 'Productivity', '37', '5', '23', '1'] \n",
      "\n",
      "['3', '281940292', 'WeatherBug - Local Weather, Radar, Maps, Alerts', '100524032', 'USD', '0', '188583', '2822', '3.5', '4.5', '5.0.0', '4+', 'Weather', '37', '5', '3', '1'] \n",
      "\n",
      "['4', '282614216', 'eBay: Best App to Buy, Sell, Save! Online Shopping', '128512000', 'USD', '0', '262241', '649', '4', '4.5', '5.10.0', '12+', 'Shopping', '37', '5', '9', '1'] \n",
      "\n",
      "['5', '282935706', 'Bible', '92774400', 'USD', '0', '985920', '5320', '4.5', '5', '7.5.1', '4+', 'Reference', '37', '5', '45', '1'] \n",
      "\n",
      "Number of rows: 7197\n",
      "Nuber of columns: 17\n"
     ]
    }
   ],
   "source": [
    "print(ios_header,'\\n')\n",
    "explore(ios,rows_cols=True)"
   ]
  },
  {
   "cell_type": "markdown",
   "id": "985db634",
   "metadata": {},
   "source": [
    "### Exploring header columns to identify ones that will be relevant to this project. \n",
    "\n",
    "A breakdown of the Google Play dataset reveals 10841 apps and 13 columns.\n",
    "\n",
    "('App', 'Category', 'Rating', 'Reviews', 'Size', 'Installs', 'Type', 'Price', 'Content Rating', 'Genres', 'Last Updated', 'Current Ver', 'Android Ver')\n",
    "\n",
    "Since, our focus is towards user engagement for free-to-download and install apps, columns useful for our purpose of analysis are:\n",
    "- **'App'**,\n",
    "- **'Category'**, \n",
    "- **'Reviews'**, \n",
    "- **'Installs'**, \n",
    "- **'Price'**, and \n",
    "- **'Genres'.**\n",
    "\n",
    "For the App Store dataset, we have 7197 apps with 16 field columns, of which ones relevant to this project would be: \n",
    "\n",
    "- **'track_name'**,\n",
    "- **'price'**,\n",
    "- **'rating_count_tot'**,\n",
    "- **'rating_count_ver'** and\n",
    "- **'prime_genre'**"
   ]
  },
  {
   "cell_type": "markdown",
   "id": "80ac5f5b",
   "metadata": {},
   "source": [
    "Before proceeding further, it is best we clean our data, which would involve removing or correcting wrong data, removing duplicate data, and modifying the data to the fit the purpose of our analysis."
   ]
  },
  {
   "cell_type": "markdown",
   "id": "bb6673d5",
   "metadata": {},
   "source": [
    "### Finding duplicate entries and deciding a criterion for removal of such entries:"
   ]
  },
  {
   "cell_type": "code",
   "execution_count": 7,
   "id": "f9f78d22",
   "metadata": {},
   "outputs": [
    {
     "name": "stdout",
     "output_type": "stream",
     "text": [
      "Number of unique apps: 9659\n",
      "Number of duplicate apps: 1181\n",
      "\n",
      "\n",
      "Examples of duplicate apps: ['Quick PDF Scanner + OCR FREE', 'Box', 'Google My Business', 'ZOOM Cloud Meetings', 'join.me - Simple Meetings', 'Box', 'Zenefits', 'Google Ads', 'Google My Business', 'Slack', 'FreshBooks Classic', 'Insightly CRM', 'QuickBooks Accounting: Invoicing & Expenses', 'HipChat - Chat Built for Teams', 'Xero Accounting Software']\n"
     ]
    }
   ],
   "source": [
    "android_duplicate_apps = []\n",
    "android_unique_apps = []\n",
    "\n",
    "for app in android:\n",
    "    name = app[0]\n",
    "    if name in android_unique_apps:\n",
    "        android_duplicate_apps.append(name)\n",
    "    else:\n",
    "        android_unique_apps.append(name)\n",
    "\n",
    "print(\"Number of unique apps:\", len(android_unique_apps))        \n",
    "print('Number of duplicate apps:', len(android_duplicate_apps))\n",
    "print('\\n')\n",
    "print('Examples of duplicate apps:', android_duplicate_apps[:15])"
   ]
  },
  {
   "cell_type": "code",
   "execution_count": 8,
   "id": "5cc7bb23",
   "metadata": {},
   "outputs": [
    {
     "name": "stdout",
     "output_type": "stream",
     "text": [
      "Number of unique apps: 7195\n",
      "Number of duplicate apps: 2\n",
      "\n",
      "\n",
      "Examples of duplicate apps: ['VR Roller Coaster', 'Mannequin Challenge']\n"
     ]
    }
   ],
   "source": [
    "ios_unique_apps = []\n",
    "ios_duplicate_apps = []\n",
    "\n",
    "for app in ios:\n",
    "    name = app[2]\n",
    "    if name in ios_unique_apps:\n",
    "        ios_duplicate_apps.append(name)\n",
    "    else:\n",
    "        ios_unique_apps.append(name)\n",
    "\n",
    "print(\"Number of unique apps:\", len(ios_unique_apps))        \n",
    "print(\"Number of duplicate apps:\", len(ios_duplicate_apps))\n",
    "print('\\n')\n",
    "print('Examples of duplicate apps:', ios_duplicate_apps[:2])"
   ]
  },
  {
   "cell_type": "markdown",
   "id": "88c97d53",
   "metadata": {},
   "source": [
    "These duplicate entries would need to be taken care before proceeding further with our analysis. One route for us to take would be to remove these entries randomly, but it would be best to come up with a criterion that picks the most intelligible choice to continue with our anylsis.\n",
    "\n",
    "Going through different duplicate entries, it is evident that the number of reviews can be used to differentiate between them. The different numbers show that the data was collected at different times. We can use this to build a criterion for keeping rows with the highest number of reviews. To achieve this, we will:\n",
    "\n",
    "- Create a dictionary where each key is a unique app name, and the value is its highest review count.\n",
    "\n",
    "- Use above created dictionary to manufacture a new data set with no duplicates."
   ]
  },
  {
   "cell_type": "markdown",
   "id": "b20bdf8b",
   "metadata": {},
   "source": [
    "Dictionary creation for android dataset"
   ]
  },
  {
   "cell_type": "code",
   "execution_count": 9,
   "id": "5f247846",
   "metadata": {},
   "outputs": [
    {
     "name": "stdout",
     "output_type": "stream",
     "text": [
      "Expected length: 9659\n",
      "Actual length: 9659\n"
     ]
    }
   ],
   "source": [
    "reviews_max = {}\n",
    "\n",
    "for app in android:\n",
    "    name = app[0]\n",
    "    n_reviews = float(app[3])\n",
    "    \n",
    "    if name in reviews_max and reviews_max[name] < n_reviews:\n",
    "        reviews_max[name] = n_reviews\n",
    "        \n",
    "    elif name not in reviews_max:\n",
    "        reviews_max[name] = n_reviews\n",
    "        \n",
    "print('Expected length:', len(android) - 1181)\n",
    "print('Actual length:', len(reviews_max))    "
   ]
  },
  {
   "cell_type": "markdown",
   "id": "984d761b",
   "metadata": {},
   "source": [
    "Dictionary creation for ios dataset"
   ]
  },
  {
   "cell_type": "code",
   "execution_count": 10,
   "id": "2e9ae018",
   "metadata": {},
   "outputs": [
    {
     "name": "stdout",
     "output_type": "stream",
     "text": [
      "Expected length: 7195\n",
      "Actual length: 7195\n"
     ]
    }
   ],
   "source": [
    "most_reviewed = {}\n",
    "for app in ios:\n",
    "    name = app[2]\n",
    "    reviews = float(app[6])\n",
    "    \n",
    "    if name in most_reviewed and most_reviewed[name] < reviews:\n",
    "        most_reviewed[name] = reviews\n",
    "        \n",
    "    elif name not in most_reviewed:\n",
    "        most_reviewed[name] = reviews\n",
    "        \n",
    "print('Expected length:', len(ios) - 2)\n",
    "print('Actual length:', len(most_reviewed))"
   ]
  },
  {
   "cell_type": "markdown",
   "id": "dd87002f",
   "metadata": {},
   "source": [
    "We can now use the created dictionaries reviews_max and max_reviews for android and ios, respectively to keep only the entries with the highest number of reviews.\n",
    "\n",
    "In the code cell below:\n",
    "\n",
    "We start by initializing two empty lists, one that tracks unique app data and the other that tracks their names to check for duplicates.\n",
    "\n",
    "Looping through each data set, and for every iteration:\n",
    "- We isolate the name of the app and the number of reviews.\n",
    "- We add the current row (app) to the first list, and the app name (name) to the already_added list.\n",
    "- We check that the number of reviews of the current app matches the number of reviews of that app as described in the reviews_max dictionary; and the name of the app is not already in the already_added list."
   ]
  },
  {
   "cell_type": "code",
   "execution_count": 11,
   "id": "44e3d237",
   "metadata": {},
   "outputs": [
    {
     "name": "stdout",
     "output_type": "stream",
     "text": [
      "9659\n"
     ]
    }
   ],
   "source": [
    "android_clean = []\n",
    "already_added = []\n",
    "\n",
    "for app in android:\n",
    "    name = app[0]\n",
    "    n_reviews = float(app[3])\n",
    "    \n",
    "    if (reviews_max[name] == n_reviews) and (name not in already_added):\n",
    "        android_clean.append(app)\n",
    "        already_added.append(name)\n",
    "        \n",
    "print(len(android_clean))"
   ]
  },
  {
   "cell_type": "code",
   "execution_count": 12,
   "id": "5c1e4c30",
   "metadata": {},
   "outputs": [
    {
     "name": "stdout",
     "output_type": "stream",
     "text": [
      "7195\n"
     ]
    }
   ],
   "source": [
    "ios_clean = []\n",
    "entered_name = []\n",
    "\n",
    "for app in ios:\n",
    "    name = app[2]\n",
    "    reviews = float(app[6])\n",
    "    \n",
    "    if reviews == most_reviewed[name] and name not in entered_name:\n",
    "        ios_clean.append(app)\n",
    "        entered_name.append(name)\n",
    "print(len(ios_clean))"
   ]
  },
  {
   "cell_type": "markdown",
   "id": "13760595",
   "metadata": {},
   "source": [
    "### Exploring the cleaned dataset using the function we defined above:"
   ]
  },
  {
   "cell_type": "code",
   "execution_count": 13,
   "id": "a764ea1e",
   "metadata": {
    "scrolled": true
   },
   "outputs": [
    {
     "name": "stdout",
     "output_type": "stream",
     "text": [
      "['Photo Editor & Candy Camera & Grid & ScrapBook', 'ART_AND_DESIGN', '4.1', '159', '19M', '10,000+', 'Free', '0', 'Everyone', 'Art & Design', 'January 7, 2018', '1.0.0', '4.0.3 and up'] \n",
      "\n",
      "['U Launcher Lite – FREE Live Cool Themes, Hide Apps', 'ART_AND_DESIGN', '4.7', '87510', '8.7M', '5,000,000+', 'Free', '0', 'Everyone', 'Art & Design', 'August 1, 2018', '1.2.4', '4.0.3 and up'] \n",
      "\n",
      "['Sketch - Draw & Paint', 'ART_AND_DESIGN', '4.5', '215644', '25M', '50,000,000+', 'Free', '0', 'Teen', 'Art & Design', 'June 8, 2018', 'Varies with device', '4.2 and up'] \n",
      "\n",
      "['Pixel Draw - Number Art Coloring Book', 'ART_AND_DESIGN', '4.3', '967', '2.8M', '100,000+', 'Free', '0', 'Everyone', 'Art & Design;Creativity', 'June 20, 2018', '1.1', '4.4 and up'] \n",
      "\n",
      "['Paper flowers instructions', 'ART_AND_DESIGN', '4.4', '167', '5.6M', '50,000+', 'Free', '0', 'Everyone', 'Art & Design', 'March 26, 2017', '1.0', '2.3 and up'] \n",
      "\n"
     ]
    }
   ],
   "source": [
    "explore(android_clean)"
   ]
  },
  {
   "cell_type": "code",
   "execution_count": 14,
   "id": "5dcf9e35",
   "metadata": {},
   "outputs": [
    {
     "name": "stdout",
     "output_type": "stream",
     "text": [
      "['1', '281656475', 'PAC-MAN Premium', '100788224', 'USD', '3.99', '21292', '26', '4', '4.5', '6.3.5', '4+', 'Games', '38', '5', '10', '1'] \n",
      "\n",
      "['2', '281796108', 'Evernote - stay organized', '158578688', 'USD', '0', '161065', '26', '4', '3.5', '8.2.2', '4+', 'Productivity', '37', '5', '23', '1'] \n",
      "\n",
      "['3', '281940292', 'WeatherBug - Local Weather, Radar, Maps, Alerts', '100524032', 'USD', '0', '188583', '2822', '3.5', '4.5', '5.0.0', '4+', 'Weather', '37', '5', '3', '1'] \n",
      "\n",
      "['4', '282614216', 'eBay: Best App to Buy, Sell, Save! Online Shopping', '128512000', 'USD', '0', '262241', '649', '4', '4.5', '5.10.0', '12+', 'Shopping', '37', '5', '9', '1'] \n",
      "\n",
      "['5', '282935706', 'Bible', '92774400', 'USD', '0', '985920', '5320', '4.5', '5', '7.5.1', '4+', 'Reference', '37', '5', '45', '1'] \n",
      "\n"
     ]
    }
   ],
   "source": [
    "explore(ios_clean)"
   ]
  },
  {
   "cell_type": "markdown",
   "id": "c70e7e5d",
   "metadata": {},
   "source": [
    "## Filtering out non-english apps:\n",
    "\n",
    "Since English will be used for the development of our app, it would be best to analyze apps that are geared towards an English speaking audience.To remove apps that do not fit this purpose, we define a function that goes through each character of the app name and finds out its corresponding ASCII number. For the English language characters this should range between 0-127. Since we do have apps that can have 1 or 2 characters outside of this spectrum, it is best to only remove apps that have more than 3 characters that do not belong to this range."
   ]
  },
  {
   "cell_type": "code",
   "execution_count": 15,
   "id": "102b3edb",
   "metadata": {},
   "outputs": [],
   "source": [
    "def check_name(app_name):\n",
    "    non_eng_char_count = 0\n",
    "    \n",
    "    for char in app_name:\n",
    "        if ord(char) > 127:\n",
    "            non_eng_char_count += 1\n",
    "    \n",
    "    if non_eng_char_count > 3:\n",
    "        return False\n",
    "    else:\n",
    "        return True"
   ]
  },
  {
   "cell_type": "markdown",
   "id": "8641cd20",
   "metadata": {},
   "source": [
    "**Conducting a check, using the function defined above and creating a new list that contains apps that meet our criteria.**"
   ]
  },
  {
   "cell_type": "code",
   "execution_count": 16,
   "id": "6cdf294c",
   "metadata": {},
   "outputs": [
    {
     "name": "stdout",
     "output_type": "stream",
     "text": [
      "Number of english apps on the Google Play store: 9614\n",
      "Number of english apps on the iOS store: 6181\n"
     ]
    }
   ],
   "source": [
    "android_eng = []\n",
    "ios_eng = []\n",
    "\n",
    "for app in android_clean:\n",
    "    name = app[0]\n",
    "    if check_name(name):\n",
    "        android_eng.append(app)\n",
    "\n",
    "for app in ios_clean:\n",
    "    name = app[2]\n",
    "    if check_name(name):\n",
    "        ios_eng.append(app)\n",
    "        \n",
    "print(f'Number of english apps on the Google Play store: {len(android_eng)}')  \n",
    "print(f'Number of english apps on the iOS store: {len(ios_eng)}')"
   ]
  },
  {
   "cell_type": "markdown",
   "id": "7dc8ef73",
   "metadata": {},
   "source": [
    "### Filtering the dataset to only pay attention to free apps.\n",
    "\n",
    "As mentioned previously, our focus is towards free to download and install apps. Since the acquired datasets contain both free and paid apps, we will now have to filter the remaining apps to only look into free apps."
   ]
  },
  {
   "cell_type": "code",
   "execution_count": 17,
   "id": "6e893272",
   "metadata": {
    "scrolled": true
   },
   "outputs": [
    {
     "name": "stdout",
     "output_type": "stream",
     "text": [
      "Number of free apps: 8864\n",
      "Number of free apps: 3220\n"
     ]
    }
   ],
   "source": [
    "android_free = []\n",
    "ios_free = []\n",
    "\n",
    "for app in android_eng:\n",
    "    price = app[7]\n",
    "    if price == '0':\n",
    "        android_free.append(app)\n",
    "print(f'Number of free apps: {len(android_free)}')\n",
    "\n",
    "for app in ios_eng:\n",
    "    price = app[5]\n",
    "    if price == '0':\n",
    "        ios_free.append(app)\n",
    "print(f'Number of free apps: {len(ios_free)}')"
   ]
  },
  {
   "cell_type": "markdown",
   "id": "707b8279",
   "metadata": {},
   "source": [
    "**After filtering the datasets to meet our selected criteria, we are left with 8864 android apps and only 3222 iOS apps. This is still a good sample size to carry forward with our analysis.**"
   ]
  },
  {
   "cell_type": "markdown",
   "id": "3b5b96f0",
   "metadata": {},
   "source": [
    "### Finding out the most common genre amongst the free apps"
   ]
  },
  {
   "cell_type": "markdown",
   "id": "4ae07ba0",
   "metadata": {},
   "source": [
    "#### Our goal is to determine the kinds of apps that are likely to attract more users, since the number of people using our apps affects our revenue. To minimize risks and overhead, our validation strategy would be as follows:\n",
    "\n",
    "1. **Build a minimal version of the app, and add it to Google Play.**\n",
    "2. **Based on user response, decide to develop it further or scrap the project.**\n",
    "3. **If the app is profitable after six months, we also build an iOS version of the app and add it to the app store.**\n",
    "\n",
    "Because our end goal is to add the app on both the App Store and Google Play, we need to find app profiles that are successful on both markets.\n",
    "\n",
    "Let's begin by analysing the most common genres for the app store by building frequency tables. \n",
    "There are 2 functions defined below: \n",
    "\n",
    "1. ftable : takes dataset and index as arguments and returns a frequency distribution table of the column values at the specified index in terms of their percentage spread.\n",
    "2. display_table: Takes the same 2 arguments, dataset and index, to return a sorted version of the frequency dictionary by converting the key-value pairs to tuples for sorting. Sorting is done in reverse order."
   ]
  },
  {
   "cell_type": "markdown",
   "id": "e304a364",
   "metadata": {},
   "source": [
    "Function to generate frequency tables that show percentages."
   ]
  },
  {
   "cell_type": "code",
   "execution_count": 18,
   "id": "5efea8f7",
   "metadata": {},
   "outputs": [],
   "source": [
    "def ftable(dataset, index):\n",
    "    freq_table = {}\n",
    "    count_pct = {}\n",
    "    app_count = 0\n",
    "    \n",
    "    for row in dataset:\n",
    "        app_count += 1\n",
    "        col_val = row[index]\n",
    "        \n",
    "        if col_val in freq_table:\n",
    "            freq_table[col_val] += 1\n",
    "        else:\n",
    "            freq_table[col_val] = 1\n",
    "    \n",
    "    for key in freq_table:\n",
    "        pct = (freq_table[key] / app_count) * 100\n",
    "        count_pct[key] = pct\n",
    "        \n",
    "    return count_pct"
   ]
  },
  {
   "cell_type": "markdown",
   "id": "693cc7fa",
   "metadata": {},
   "source": [
    "Function to  display percentages in descending order."
   ]
  },
  {
   "cell_type": "code",
   "execution_count": 19,
   "id": "e6defd62",
   "metadata": {},
   "outputs": [],
   "source": [
    "def display_table(dataset, index):\n",
    "    table = ftable(dataset, index)\n",
    "    table_display = []\n",
    "    \n",
    "    for key in table:\n",
    "        key_val = (table[key], key)\n",
    "        table_display.append(key_val)\n",
    "        \n",
    "    table_sort = sorted(table_display, reverse=True)\n",
    "    for entry in table_sort:\n",
    "        print(entry[1], ':', entry[0])"
   ]
  },
  {
   "cell_type": "markdown",
   "id": "6898c9f3",
   "metadata": {},
   "source": [
    "Using the functions above to generate the frequency tables for app genres from both datasets."
   ]
  },
  {
   "cell_type": "code",
   "execution_count": 20,
   "id": "865f8dcc",
   "metadata": {
    "scrolled": true
   },
   "outputs": [
    {
     "name": "stdout",
     "output_type": "stream",
     "text": [
      "FAMILY : 18.907942238267147\n",
      "GAME : 9.724729241877256\n",
      "TOOLS : 8.461191335740072\n",
      "BUSINESS : 4.591606498194946\n",
      "LIFESTYLE : 3.9034296028880866\n",
      "PRODUCTIVITY : 3.892148014440433\n",
      "FINANCE : 3.7003610108303246\n",
      "MEDICAL : 3.531137184115524\n",
      "SPORTS : 3.395758122743682\n",
      "PERSONALIZATION : 3.3167870036101084\n",
      "COMMUNICATION : 3.2378158844765346\n",
      "HEALTH_AND_FITNESS : 3.0798736462093865\n",
      "PHOTOGRAPHY : 2.944494584837545\n",
      "NEWS_AND_MAGAZINES : 2.7978339350180503\n",
      "SOCIAL : 2.6624548736462095\n",
      "TRAVEL_AND_LOCAL : 2.33528880866426\n",
      "SHOPPING : 2.2450361010830324\n",
      "BOOKS_AND_REFERENCE : 2.1435018050541514\n",
      "DATING : 1.861462093862816\n",
      "VIDEO_PLAYERS : 1.7937725631768955\n",
      "MAPS_AND_NAVIGATION : 1.3989169675090252\n",
      "FOOD_AND_DRINK : 1.2409747292418771\n",
      "EDUCATION : 1.1620036101083033\n",
      "ENTERTAINMENT : 0.9589350180505415\n",
      "LIBRARIES_AND_DEMO : 0.9363718411552346\n",
      "AUTO_AND_VEHICLES : 0.9250902527075812\n",
      "HOUSE_AND_HOME : 0.8235559566787004\n",
      "WEATHER : 0.8009927797833934\n",
      "EVENTS : 0.7107400722021661\n",
      "PARENTING : 0.6543321299638989\n",
      "ART_AND_DESIGN : 0.6430505415162455\n",
      "COMICS : 0.6204873646209386\n",
      "BEAUTY : 0.5979241877256317\n"
     ]
    }
   ],
   "source": [
    "display_table(android_free, 1)"
   ]
  },
  {
   "cell_type": "markdown",
   "id": "81f397fd",
   "metadata": {},
   "source": [
    "Based on the above frequency table, family apps seem to dominate the Google Play landscape. Games only account for close to 10% of the market, with most apps developed for their practical purposes eg Tools/Business/Lifestyle/Family etc. "
   ]
  },
  {
   "cell_type": "code",
   "execution_count": 21,
   "id": "d9918a9e",
   "metadata": {
    "scrolled": true
   },
   "outputs": [
    {
     "name": "stdout",
     "output_type": "stream",
     "text": [
      "Games : 58.13664596273293\n",
      "Entertainment : 7.888198757763975\n",
      "Photo & Video : 4.968944099378882\n",
      "Education : 3.6645962732919255\n",
      "Social Networking : 3.291925465838509\n",
      "Shopping : 2.608695652173913\n",
      "Utilities : 2.515527950310559\n",
      "Sports : 2.142857142857143\n",
      "Music : 2.049689440993789\n",
      "Health & Fitness : 2.018633540372671\n",
      "Productivity : 1.7391304347826086\n",
      "Lifestyle : 1.5838509316770186\n",
      "News : 1.3354037267080745\n",
      "Travel : 1.2422360248447204\n",
      "Finance : 1.1180124223602486\n",
      "Weather : 0.8695652173913043\n",
      "Food & Drink : 0.8074534161490683\n",
      "Reference : 0.5590062111801243\n",
      "Business : 0.5279503105590062\n",
      "Book : 0.43478260869565216\n",
      "Navigation : 0.18633540372670807\n",
      "Medical : 0.18633540372670807\n",
      "Catalogs : 0.12422360248447205\n"
     ]
    }
   ],
   "source": [
    "display_table(ios_free, -5)"
   ]
  },
  {
   "cell_type": "markdown",
   "id": "455c53e8",
   "metadata": {},
   "source": [
    "The above table shows that the majority of the free apps on the App Store are Games, with 58.14% of the market share dominated by them. The next best app categories are 'Entertainment' and 'Photo and Video' but they are far behind with only 7.88% and 4.97 % of the free apss falling in those categories, respectively. Compared to the Google Dataset, we can see that the iOS store is dominated by 'for-fun' apps, completely different from its counterpart's landscape."
   ]
  },
  {
   "cell_type": "markdown",
   "id": "a1d69809",
   "metadata": {},
   "source": [
    "## Most Popular Apps by Genre on the App Store\n",
    "\n",
    "To find out the more popular genres, we can average the number of installs for each. For the Google Play dataset we can derive this information from the 'Installs' column but for the App Store data set this information is missing.\n",
    "\n",
    "In this instance we will take the total number of user ratings as a proxy, which can be found under the 'rating_count_tot' column."
   ]
  },
  {
   "cell_type": "code",
   "execution_count": 22,
   "id": "843dd034",
   "metadata": {},
   "outputs": [
    {
     "name": "stdout",
     "output_type": "stream",
     "text": [
      "Productivity : 21028.410714285714\n",
      "Weather : 52279.892857142855\n",
      "Shopping : 26919.690476190477\n",
      "Reference : 74942.11111111111\n",
      "Finance : 31467.944444444445\n",
      "Music : 57326.530303030304\n",
      "Utilities : 18684.456790123455\n",
      "Travel : 28243.8\n",
      "Social Networking : 71548.34905660378\n",
      "Sports : 23008.898550724636\n",
      "Health & Fitness : 23298.015384615384\n",
      "Games : 22812.92467948718\n",
      "Food & Drink : 33333.92307692308\n",
      "News : 21248.023255813954\n",
      "Book : 39758.5\n",
      "Photo & Video : 28441.54375\n",
      "Entertainment : 14029.830708661417\n",
      "Business : 7491.117647058823\n",
      "Lifestyle : 16485.764705882353\n",
      "Education : 7003.983050847458\n",
      "Navigation : 86090.33333333333\n",
      "Medical : 612.0\n",
      "Catalogs : 4004.0\n"
     ]
    }
   ],
   "source": [
    "ios_genre = ftable(ios_free, -5)\n",
    "\n",
    "for genre in ios_genre:\n",
    "    total = 0\n",
    "    len_genre = 0\n",
    "    \n",
    "    for app in ios_free:\n",
    "        app_genre = app[-5]\n",
    "        \n",
    "        if app_genre == genre:\n",
    "            n_ratings = float(app[6])\n",
    "            total += n_ratings\n",
    "            len_genre += 1\n",
    "    \n",
    "    avg_nrat = total / len_genre\n",
    "    print(genre, ':', avg_nrat)"
   ]
  },
  {
   "cell_type": "markdown",
   "id": "7f8bbef9",
   "metadata": {},
   "source": [
    "Going by the above information, Navigation apps are the most reviewed apps, followed closely by 'Reference' and 'Social Networking' apps. Taking a closer look at these categories below:"
   ]
  },
  {
   "cell_type": "code",
   "execution_count": 23,
   "id": "00c569b3",
   "metadata": {},
   "outputs": [
    {
     "name": "stdout",
     "output_type": "stream",
     "text": [
      "Waze - GPS Navigation, Maps & Real-time Traffic : 345046\n",
      "Geocaching® : 12811\n",
      "ImmobilienScout24: Real Estate Search in Germany : 187\n",
      "Railway Route Search : 5\n",
      "CoPilot GPS – Car Navigation & Offline Maps : 3582\n",
      "Google Maps - Navigation & Transit : 154911\n"
     ]
    }
   ],
   "source": [
    "for app in ios_free:\n",
    "    if app[-5] =='Navigation':\n",
    "        print(app[2], ':', app[6])"
   ]
  },
  {
   "cell_type": "markdown",
   "id": "5d14c3b8",
   "metadata": {},
   "source": [
    "#### Going through each category, we can see that\n",
    "on average, navigation apps have the highest number of user reviews, but this figure is heavily influenced by apps like Waze and Google Maps, which have close to half a million user reviews together."
   ]
  },
  {
   "cell_type": "code",
   "execution_count": 24,
   "id": "e8604eec",
   "metadata": {},
   "outputs": [
    {
     "name": "stdout",
     "output_type": "stream",
     "text": [
      "Facebook : 2974676\n",
      "LinkedIn : 71856\n",
      "Skype for iPhone : 373519\n",
      "Tumblr : 334293\n",
      "Match™ - #1 Dating App. : 60659\n",
      "WhatsApp Messenger : 287589\n",
      "TextNow - Unlimited Text + Calls : 164963\n",
      "Grindr - Gay and same sex guys chat, meet and date : 23201\n",
      "imo video calls and chat : 18841\n",
      "Ameba : 269\n",
      "Weibo : 7265\n",
      "Badoo - Meet New People, Chat, Socialize. : 34428\n",
      "Kik : 260965\n",
      "Qzone : 1649\n",
      "Fake-A-Location Free ™ : 354\n",
      "Tango - Free Video Call, Voice and Chat : 75412\n",
      "MeetMe - Chat and Meet New People : 97072\n",
      "SimSimi : 23530\n",
      "Viber Messenger – Text & Call : 164249\n",
      "Find My Family, Friends & iPhone - Life360 Locator : 43877\n",
      "Weibo HD : 16772\n",
      "POF - Best Dating App for Conversations : 52642\n",
      "GroupMe : 28260\n",
      "Lobi : 36\n",
      "WeChat : 34584\n",
      "ooVoo – Free Video Call, Text and Voice : 177501\n",
      "Pinterest : 1061624\n",
      "知乎 : 397\n",
      "Qzone HD : 458\n",
      "Skype for iPad : 60163\n",
      "LINE : 11437\n",
      "QQ : 9109\n",
      "LOVOO - Dating Chat : 1985\n",
      "QQ HD : 5058\n",
      "Messenger : 351466\n",
      "eHarmony™ Dating App - Meet Singles : 11124\n",
      "YouNow: Live Stream Video Chat : 12079\n",
      "Cougar Dating & Life Style App for Mature Women : 213\n",
      "Battlefield™ Companion : 689\n",
      "Whisper - Share, Express, Meet : 39819\n",
      "We Heart It - Fashion, wallpapers, quotes, tattoos : 90414\n",
      "Followers - Social Analytics For Instagram : 112778\n",
      "InsTrack for Instagram - Analytics Plus More : 85535\n",
      "Followers + for Instagram - Follower Analytics : 28633\n",
      "Timehop : 49510\n",
      "Repost for Instagram : 15185\n",
      "LINE PLAY - Your Avatar World : 34677\n",
      "Nextdoor : 14402\n",
      "Hangouts : 36404\n",
      "FollowMeter for Instagram - Followers Tracking : 11976\n",
      "Telegram Messenger : 7573\n",
      "Chatous - Chat with new people : 1609\n",
      "QQ International : 274\n",
      "FireChat : 1037\n",
      "Jodel : 1193\n",
      "Wishbone - Compare Anything : 20649\n",
      "Zenly - Locate your friends in realtime : 427\n",
      "Tantan : 235\n",
      "Flinch - Video Chat Staring Contest : 2134\n",
      "botman - Real time video chat : 7\n",
      "豆瓣 : 407\n",
      "Marco Polo Video Walkie Talkie : 27662\n",
      "After School - Funny Anonymous School News : 18482\n",
      "Highrise - Your Avatar Community : 2011\n",
      "Quick Reposter - Repost, Regram and Reshare Photos : 17694\n",
      "Kiwi - Q&A : 1538\n",
      "Periscope - Live Video Streaming Around the World : 6062\n",
      "Inke—Broadcast an amazing life : 147\n",
      "Discord - Chat for Gamers : 9152\n",
      "Candid - Speak Your Mind Freely : 398\n",
      "Down To Lunch : 2535\n",
      "SOMA Messenger : 3232\n",
      "Rawr Messenger - Dab your chat : 180\n",
      "Popcorn Buzz - Free Group Calls : 281\n",
      "Chain: Collaborate On MyVideo Story/Group Video : 35\n",
      "BestieBox : 0\n",
      "Selfeo : 366\n",
      "Followers Analysis Tool For Instagram App Free : 4253\n",
      "Hey! VINA - Where Women Meet New Friends : 719\n",
      "PlayStation®Messages : 1918\n",
      "WhenToPost: Best Time to Post Photos for Instagram : 158\n",
      "MATCH ON LINE chat : 0\n",
      "Fiesta by Tango - Chat & Meet New People : 885\n",
      "Houseparty - Group Video Chat : 3991\n",
      "All Devices for WhatsApp - Messenger for iPad : 682\n",
      "Peach — share vividly : 727\n",
      "bit-tube - Live Stream Video Chat : 0\n",
      "Miitomo : 23965\n",
      "SoundCloud Pulse: for creators : 240\n",
      "IAmNaughty – Dating App to Meet New People Online : 463\n",
      "League of Legends Friends : 420\n",
      "GhostCodes - a discovery app for Snapchat : 1313\n",
      "live.ly - live video streaming : 4145\n",
      "Live.me – Live Video Chat & Make Friends Nearby : 14724\n",
      "BOO! - Video chat camera with filters & stickers : 1805\n",
      "Google Allo — smart messaging : 862\n",
      "Google Duo - simple video calling : 1033\n",
      "Chat for Whatsapp - iPad Version : 5060\n",
      "Chat for Pokemon Go - GoChat : 500\n",
      "niconico ch : 0\n",
      "Followers Analytics for Instagram - InstaReport : 13914\n",
      "Monkey : 3060\n",
      "LINE BLOG : 0\n",
      "Mustknow - anonymous video Q&A : 53\n",
      "CTFxCmoji : 39\n",
      "Fam — Group video calling for iMessage : 279\n"
     ]
    }
   ],
   "source": [
    "for app in ios_free:\n",
    "    if app[-5] =='Social Networking':\n",
    "        print(app[2], ':', app[6])"
   ]
  },
  {
   "cell_type": "markdown",
   "id": "0ea97c47",
   "metadata": {},
   "source": [
    "**The same pattern can be seen for social networking apps, where the average number is heavily influenced by a handful few apps such as Facebook, Pinterest, Skype etc. Music apps, with some big apps, like Pandora, Spotify and Shazam also heavily skew the average number.**"
   ]
  },
  {
   "cell_type": "code",
   "execution_count": 25,
   "id": "93a58334",
   "metadata": {},
   "outputs": [
    {
     "name": "stdout",
     "output_type": "stream",
     "text": [
      "Bible : 985920\n",
      "Dictionary.com Dictionary & Thesaurus : 200047\n",
      "Dictionary.com Dictionary & Thesaurus for iPad : 54175\n",
      "Muslim Pro: Ramadan 2017 Prayer Times, Azan, Quran : 18418\n",
      "Merriam-Webster Dictionary : 16849\n",
      "Google Translate : 26786\n",
      "Night Sky : 12122\n",
      "WWDC : 762\n",
      "Jishokun-Japanese English Dictionary & Translator : 0\n",
      "教えて!goo : 0\n",
      "VPN Express : 14\n",
      "New Furniture Mods - Pocket Wiki & Game Tools for Minecraft PC Edition : 17588\n",
      "LUCKY BLOCK MOD ™ for Minecraft PC Edition - The Best Pocket Wiki & Mods Installer Tools : 4693\n",
      "Guides for Pokémon GO - Pokemon GO News and Cheats : 826\n",
      "Horror Maps for Minecraft PE - Download The Scariest Maps for Minecraft Pocket Edition (MCPE) Free : 718\n",
      "City Maps for Minecraft PE - The Best Maps for Minecraft Pocket Edition (MCPE) : 8535\n",
      "GUNS MODS for Minecraft PC Edition - Mods Tools : 1497\n",
      "Real Bike Traffic Rider Virtual Reality Glasses : 8\n"
     ]
    }
   ],
   "source": [
    "for app in ios_free:\n",
    "    if app[-5] =='Reference':\n",
    "        print(app[2], ':', app[6])"
   ]
  },
  {
   "cell_type": "markdown",
   "id": "3320d4e4",
   "metadata": {},
   "source": [
    "'Reference' apps have extremely high number of user ratings, but even these are skewed by 'Bible' and 'Dictionary.com'. However, in this category, other remaining apps are also quite popular, with many able to rake up more than 10,000 reviews quite easily. This is a category that shows promise and should be something to target for our new app. "
   ]
  },
  {
   "cell_type": "markdown",
   "id": "b9772ee2",
   "metadata": {},
   "source": [
    "*Our aim is to find popular genres, but navigation, social networking or music apps might seem more popular than they really are. In our situation, however, a handful few apps have skewed the average user rating numbers, with most apps barely able to cross the 10,000 ratings threshold. We can dive deeper by removing these popular apps.*\n",
    "\n",
    "This idea seems to fit well with the fact that the App Store is dominated by for-fun apps. This suggests the market might be a bit saturated with for-fun apps, which means a practical app might have more of a chance to stand out among the huge number of apps on the App Store.\n",
    "\n",
    "Other genres that seem popular include weather, book, food and drink, or finance. We ignore these for the following reasons:\n",
    "\n",
    "**Weather apps — people generally don't spend too much time in-app, and the chances of making profit from in-app adds are low. Also, getting reliable live weather data may require us to connect our apps to non-free APIs.**\n",
    "\n",
    "**Food and drink — examples here include Starbucks, Dunkin' Donuts, McDonald's, etc. So making a popular food and drink app requires actual cooking and a delivery service, which is outside the scope of our company.**\n",
    "\n",
    "**Finance apps — these apps involve banking, paying bills, money transfer, etc. Building a finance app requires domain knowledge, and we don't want to hire a finance expert just to build an app.**"
   ]
  },
  {
   "cell_type": "markdown",
   "id": "7c12bbf7",
   "metadata": {},
   "source": [
    "## Most Popular Apps by Genre on Google Play"
   ]
  },
  {
   "cell_type": "markdown",
   "id": "6c753158",
   "metadata": {},
   "source": [
    "For this dataset, we can simply start with our analysis of the 'installs' column."
   ]
  },
  {
   "cell_type": "code",
   "execution_count": 26,
   "id": "0bdf7f15",
   "metadata": {},
   "outputs": [
    {
     "name": "stdout",
     "output_type": "stream",
     "text": [
      "1,000,000+ : 15.726534296028879\n",
      "100,000+ : 11.552346570397113\n",
      "10,000,000+ : 10.548285198555957\n",
      "10,000+ : 10.198555956678701\n",
      "1,000+ : 8.393501805054152\n",
      "100+ : 6.915613718411552\n",
      "5,000,000+ : 6.825361010830325\n",
      "500,000+ : 5.561823104693141\n",
      "50,000+ : 4.7721119133574\n",
      "5,000+ : 4.512635379061372\n",
      "10+ : 3.5424187725631766\n",
      "500+ : 3.2490974729241873\n",
      "50,000,000+ : 2.3014440433213\n",
      "100,000,000+ : 2.1322202166064983\n",
      "50+ : 1.917870036101083\n",
      "5+ : 0.78971119133574\n",
      "1+ : 0.5076714801444043\n",
      "500,000,000+ : 0.2707581227436823\n",
      "1,000,000,000+ : 0.22563176895306858\n",
      "0+ : 0.04512635379061372\n",
      "0 : 0.01128158844765343\n"
     ]
    }
   ],
   "source": [
    "display_table(android_free, 5)"
   ]
  },
  {
   "cell_type": "markdown",
   "id": "cb8e31d1",
   "metadata": {},
   "source": [
    "The above ranges are quite open-ended and hence the data is not precise. For the purposes of this project, this is not a concern. Leaving the numbers as they are and treating them on their lowest limit would require us to clean this field up a bit. We will also have to convert their type from a string to a float and remove unwanted characters such as '+',',' etc."
   ]
  },
  {
   "cell_type": "code",
   "execution_count": 32,
   "id": "8aa793b9",
   "metadata": {},
   "outputs": [
    {
     "name": "stdout",
     "output_type": "stream",
     "text": [
      "ART_AND_DESIGN : 1986335.0877192982\n",
      "AUTO_AND_VEHICLES : 647317.8170731707\n",
      "BEAUTY : 513151.88679245283\n",
      "BOOKS_AND_REFERENCE : 8767811.894736841\n",
      "BUSINESS : 1712290.1474201474\n",
      "COMICS : 817657.2727272727\n",
      "COMMUNICATION : 38456119.167247385\n",
      "DATING : 854028.8303030303\n",
      "EDUCATION : 1833495.145631068\n",
      "ENTERTAINMENT : 11640705.88235294\n",
      "EVENTS : 253542.22222222222\n",
      "FINANCE : 1387692.475609756\n",
      "FOOD_AND_DRINK : 1924897.7363636363\n",
      "HEALTH_AND_FITNESS : 4188821.9853479853\n",
      "HOUSE_AND_HOME : 1331540.5616438356\n",
      "LIBRARIES_AND_DEMO : 638503.734939759\n",
      "LIFESTYLE : 1437816.2687861272\n",
      "GAME : 15588015.603248259\n",
      "FAMILY : 3695641.8198090694\n",
      "MEDICAL : 120550.61980830671\n",
      "SOCIAL : 23253652.127118643\n",
      "SHOPPING : 7036877.311557789\n",
      "PHOTOGRAPHY : 17840110.40229885\n",
      "SPORTS : 3638640.1428571427\n",
      "TRAVEL_AND_LOCAL : 13984077.710144928\n",
      "TOOLS : 10801391.298666667\n",
      "PERSONALIZATION : 5201482.6122448975\n",
      "PRODUCTIVITY : 16787331.344927534\n",
      "PARENTING : 542603.6206896552\n",
      "WEATHER : 5074486.197183099\n",
      "VIDEO_PLAYERS : 24727872.452830188\n",
      "NEWS_AND_MAGAZINES : 9549178.467741935\n",
      "MAPS_AND_NAVIGATION : 4056941.7741935486\n"
     ]
    }
   ],
   "source": [
    "android_cat = ftable(android_free, 1)\n",
    "\n",
    "for cat in android_cat:\n",
    "    total = 0\n",
    "    len_category = 0\n",
    "    for app in android_free:\n",
    "        app_cat = app[1]\n",
    "        if app_cat == cat:\n",
    "            n_installs = app[5]\n",
    "            n_installs = n_installs.replace(',', '')\n",
    "            n_installs = n_installs.replace('+', '')\n",
    "            total += float(n_installs)\n",
    "            len_category += 1\n",
    "            \n",
    "    avg_n_installs = total / len_category\n",
    "    print(cat, ':', avg_n_installs)"
   ]
  },
  {
   "cell_type": "markdown",
   "id": "1e085549",
   "metadata": {},
   "source": [
    "**Sifting through the acquired information, communication apps, on average, have the most installs. However, this metric seems skewed by a handful few apps such as WhatsApp, Facebook Messenger, Skype etc.**"
   ]
  },
  {
   "cell_type": "code",
   "execution_count": 33,
   "id": "734827e9",
   "metadata": {},
   "outputs": [
    {
     "name": "stdout",
     "output_type": "stream",
     "text": [
      "WhatsApp Messenger : 1,000,000,000+\n",
      "imo beta free calls and text : 100,000,000+\n",
      "Android Messages : 100,000,000+\n",
      "Google Duo - High Quality Video Calls : 500,000,000+\n",
      "Messenger – Text and Video Chat for Free : 1,000,000,000+\n",
      "imo free video calls and chat : 500,000,000+\n",
      "Skype - free IM & video calls : 1,000,000,000+\n",
      "Who : 100,000,000+\n",
      "GO SMS Pro - Messenger, Free Themes, Emoji : 100,000,000+\n",
      "LINE: Free Calls & Messages : 500,000,000+\n",
      "Google Chrome: Fast & Secure : 1,000,000,000+\n",
      "Firefox Browser fast & private : 100,000,000+\n",
      "UC Browser - Fast Download Private & Secure : 500,000,000+\n",
      "Gmail : 1,000,000,000+\n",
      "Hangouts : 1,000,000,000+\n",
      "Messenger Lite: Free Calls & Messages : 100,000,000+\n",
      "Kik : 100,000,000+\n",
      "KakaoTalk: Free Calls & Text : 100,000,000+\n",
      "Opera Mini - fast web browser : 100,000,000+\n",
      "Opera Browser: Fast and Secure : 100,000,000+\n",
      "Telegram : 100,000,000+\n",
      "Truecaller: Caller ID, SMS spam blocking & Dialer : 100,000,000+\n",
      "UC Browser Mini -Tiny Fast Private & Secure : 100,000,000+\n",
      "Viber Messenger : 500,000,000+\n",
      "WeChat : 100,000,000+\n",
      "Yahoo Mail – Stay Organized : 100,000,000+\n",
      "BBM - Free Calls & Messages : 100,000,000+\n"
     ]
    }
   ],
   "source": [
    "for app in android_free:\n",
    "    if app[1] == 'COMMUNICATION' and (app[5] == '1,000,000,000+'\n",
    "                                      or app[5] == '500,000,000+'\n",
    "                                      or app[5] == '100,000,000+'):\n",
    "        print(app[0], ':', app[5])"
   ]
  },
  {
   "cell_type": "markdown",
   "id": "4f2ea61b",
   "metadata": {},
   "source": [
    "**If we remove all 'Communication' apps with over 100 million installs, the average would be greatly reduced**"
   ]
  },
  {
   "cell_type": "code",
   "execution_count": 34,
   "id": "a5672aed",
   "metadata": {},
   "outputs": [
    {
     "data": {
      "text/plain": [
       "3603485.3884615386"
      ]
     },
     "execution_count": 34,
     "metadata": {},
     "output_type": "execute_result"
    }
   ],
   "source": [
    "thresh_100m = []\n",
    "\n",
    "for app in android_free:\n",
    "    n_installs = app[5]\n",
    "    n_installs = n_installs.replace(',', '')\n",
    "    n_installs = n_installs.replace('+', '')\n",
    "    if (app[1] == 'COMMUNICATION') and (float(n_installs) < 100000000):\n",
    "        thresh_100m.append(float(n_installs))\n",
    "        \n",
    "sum(thresh_100m) / len(thresh_100m)"
   ]
  },
  {
   "cell_type": "markdown",
   "id": "62af6f46",
   "metadata": {},
   "source": [
    "We can apply the same methodology to other categories that are at the top of the charts. A pattern can be identified for the video players category, social apps, photography apps and productivity apps."
   ]
  },
  {
   "cell_type": "markdown",
   "id": "89a51c0d",
   "metadata": {},
   "source": [
    "The primary concern here is to avoid categories that may seem more popular than they actually are becuase of a handful few apps skewing the data favourably in their direction. This also lets us know if the categories are dominated by giants, who can be hard to compete against."
   ]
  },
  {
   "cell_type": "markdown",
   "id": "1dbd7cf8",
   "metadata": {},
   "source": [
    "Besides the categories mentioned above, the games genre looks saturated to the brim. We can look into the 'Books and Reference' category to see if our finding from the App Store dataset translates well over to the Google Play data."
   ]
  },
  {
   "cell_type": "code",
   "execution_count": 35,
   "id": "080b41e9",
   "metadata": {},
   "outputs": [
    {
     "name": "stdout",
     "output_type": "stream",
     "text": [
      "E-Book Read - Read Book for free : 50,000+\n",
      "Download free book with green book : 100,000+\n",
      "Wikipedia : 10,000,000+\n",
      "Cool Reader : 10,000,000+\n",
      "Free Panda Radio Music : 100,000+\n",
      "Book store : 1,000,000+\n",
      "FBReader: Favorite Book Reader : 10,000,000+\n",
      "English Grammar Complete Handbook : 500,000+\n",
      "Free Books - Spirit Fanfiction and Stories : 1,000,000+\n",
      "Google Play Books : 1,000,000,000+\n",
      "AlReader -any text book reader : 5,000,000+\n",
      "Offline English Dictionary : 100,000+\n",
      "Offline: English to Tagalog Dictionary : 500,000+\n",
      "FamilySearch Tree : 1,000,000+\n",
      "Cloud of Books : 1,000,000+\n",
      "Recipes of Prophetic Medicine for free : 500,000+\n",
      "ReadEra – free ebook reader : 1,000,000+\n",
      "Anonymous caller detection : 10,000+\n",
      "Ebook Reader : 5,000,000+\n",
      "Litnet - E-books : 100,000+\n",
      "Read books online : 5,000,000+\n",
      "English to Urdu Dictionary : 500,000+\n",
      "eBoox: book reader fb2 epub zip : 1,000,000+\n",
      "English Persian Dictionary : 500,000+\n",
      "Flybook : 500,000+\n",
      "All Maths Formulas : 1,000,000+\n",
      "Ancestry : 5,000,000+\n",
      "HTC Help : 10,000,000+\n",
      "English translation from Bengali : 100,000+\n",
      "Pdf Book Download - Read Pdf Book : 100,000+\n",
      "Free Book Reader : 100,000+\n",
      "eBoox new: Reader for fb2 epub zip books : 50,000+\n",
      "Only 30 days in English, the guideline is guaranteed : 500,000+\n",
      "Moon+ Reader : 10,000,000+\n",
      "SH-02J Owner's Manual (Android 8.0) : 50,000+\n",
      "English-Myanmar Dictionary : 1,000,000+\n",
      "Golden Dictionary (EN-AR) : 1,000,000+\n",
      "All Language Translator Free : 1,000,000+\n",
      "Azpen eReader : 500,000+\n",
      "URBANO V 02 instruction manual : 100,000+\n",
      "Bible : 100,000,000+\n",
      "C Programs and Reference : 50,000+\n",
      "C Offline Tutorial : 1,000+\n",
      "C Programs Handbook : 50,000+\n",
      "Amazon Kindle : 100,000,000+\n",
      "Aab e Hayat Full Novel : 100,000+\n",
      "Aldiko Book Reader : 10,000,000+\n",
      "Google I/O 2018 : 500,000+\n",
      "R Language Reference Guide : 10,000+\n",
      "Learn R Programming Full : 5,000+\n",
      "R Programing Offline Tutorial : 1,000+\n",
      "Guide for R Programming : 5+\n",
      "Learn R Programming : 10+\n",
      "R Quick Reference Big Data : 1,000+\n",
      "V Made : 100,000+\n",
      "Wattpad 📖 Free Books : 100,000,000+\n",
      "Dictionary - WordWeb : 5,000,000+\n",
      "Guide (for X-MEN) : 100,000+\n",
      "AC Air condition Troubleshoot,Repair,Maintenance : 5,000+\n",
      "AE Bulletins : 1,000+\n",
      "Ae Allah na Dai (Rasa) : 10,000+\n",
      "50000 Free eBooks & Free AudioBooks : 5,000,000+\n",
      "Ag PhD Field Guide : 10,000+\n",
      "Ag PhD Deficiencies : 10,000+\n",
      "Ag PhD Planting Population Calculator : 1,000+\n",
      "Ag PhD Soybean Diseases : 1,000+\n",
      "Fertilizer Removal By Crop : 50,000+\n",
      "A-J Media Vault : 50+\n",
      "Al-Quran (Free) : 10,000,000+\n",
      "Al Quran (Tafsir & by Word) : 500,000+\n",
      "Al Quran Indonesia : 10,000,000+\n",
      "Al'Quran Bahasa Indonesia : 10,000,000+\n",
      "Al Quran Al karim : 1,000,000+\n",
      "Al-Muhaffiz : 50,000+\n",
      "Al Quran : EAlim - Translations & MP3 Offline : 5,000,000+\n",
      "Al-Quran 30 Juz free copies : 500,000+\n",
      "Koran Read &MP3 30 Juz Offline : 1,000,000+\n",
      "Hafizi Quran 15 lines per page : 1,000,000+\n",
      "Quran for Android : 10,000,000+\n",
      "Surah Al-Waqiah : 100,000+\n",
      "Hisnul Al Muslim - Hisn Invocations & Adhkaar : 100,000+\n",
      "Satellite AR : 1,000,000+\n",
      "Audiobooks from Audible : 100,000,000+\n",
      "Kinot & Eichah for Tisha B'Av : 10,000+\n",
      "AW Tozer Devotionals - Daily : 5,000+\n",
      "Tozer Devotional -Series 1 : 1,000+\n",
      "The Pursuit of God : 1,000+\n",
      "AY Sing : 5,000+\n",
      "Ay Hasnain k Nana Milad Naat : 10,000+\n",
      "Ay Mohabbat Teri Khatir Novel : 10,000+\n",
      "Arizona Statutes, ARS (AZ Law) : 1,000+\n",
      "Oxford A-Z of English Usage : 1,000,000+\n",
      "BD Fishpedia : 1,000+\n",
      "BD All Sim Offer : 10,000+\n",
      "Youboox - Livres, BD et magazines : 500,000+\n",
      "B&H Kids AR : 10,000+\n",
      "B y H Niños ES : 5,000+\n",
      "Dictionary.com: Find Definitions for English Words : 10,000,000+\n",
      "English Dictionary - Offline : 10,000,000+\n",
      "Bible KJV : 5,000,000+\n",
      "Borneo Bible, BM Bible : 10,000+\n",
      "MOD Black for BM : 100+\n",
      "BM Box : 1,000+\n",
      "Anime Mod for BM : 100+\n",
      "NOOK: Read eBooks & Magazines : 10,000,000+\n",
      "NOOK Audiobooks : 500,000+\n",
      "NOOK App for NOOK Devices : 500,000+\n",
      "Browsery by Barnes & Noble : 5,000+\n",
      "bp e-store : 1,000+\n",
      "Brilliant Quotes: Life, Love, Family & Motivation : 1,000,000+\n",
      "BR Ambedkar Biography & Quotes : 10,000+\n",
      "BU Alsace : 100+\n",
      "Catholic La Bu Zo Kam : 500+\n",
      "Khrifa Hla Bu (Solfa) : 10+\n",
      "Kristian Hla Bu : 10,000+\n",
      "SA HLA BU : 1,000+\n",
      "Learn SAP BW : 500+\n",
      "Learn SAP BW on HANA : 500+\n",
      "CA Laws 2018 (California Laws and Codes) : 5,000+\n",
      "Bootable Methods(USB-CD-DVD) : 10,000+\n",
      "cloudLibrary : 100,000+\n",
      "SDA Collegiate Quarterly : 500+\n",
      "Sabbath School : 100,000+\n",
      "Cypress College Library : 100+\n",
      "Stats Royale for Clash Royale : 1,000,000+\n",
      "GATE 21 years CS Papers(2011-2018 Solved) : 50+\n",
      "Learn CT Scan Of Head : 5,000+\n",
      "Easy Cv maker 2018 : 10,000+\n",
      "How to Write CV : 100,000+\n",
      "CW Nuclear : 1,000+\n",
      "CY Spray nozzle : 10+\n",
      "BibleRead En Cy Zh Yue : 5+\n",
      "CZ-Help : 5+\n",
      "Modlitební knížka CZ : 500+\n",
      "Guide for DB Xenoverse : 10,000+\n",
      "Guide for DB Xenoverse 2 : 10,000+\n",
      "Guide for IMS DB : 10+\n",
      "DC HSEMA : 5,000+\n",
      "DC Public Library : 1,000+\n",
      "Painting Lulu DC Super Friends : 1,000+\n",
      "Dictionary : 10,000,000+\n",
      "Fix Error Google Playstore : 1,000+\n",
      "D. H. Lawrence Poems FREE : 1,000+\n",
      "Bilingual Dictionary Audio App : 5,000+\n",
      "DM Screen : 10,000+\n",
      "wikiHow: how to do anything : 1,000,000+\n",
      "Dr. Doug's Tips : 1,000+\n",
      "Bible du Semeur-BDS (French) : 50,000+\n",
      "La citadelle du musulman : 50,000+\n",
      "DV 2019 Entry Guide : 10,000+\n",
      "DV 2019 - EDV Photo & Form : 50,000+\n",
      "DV 2018 Winners Guide : 1,000+\n",
      "EB Annual Meetings : 1,000+\n",
      "EC - AP & Telangana : 5,000+\n",
      "TN Patta Citta & EC : 10,000+\n",
      "AP Stamps and Registration : 10,000+\n",
      "CompactiMa EC pH Calibration : 100+\n",
      "EGW Writings 2 : 100,000+\n",
      "EGW Writings : 1,000,000+\n",
      "Bible with EGW Comments : 100,000+\n",
      "My Little Pony AR Guide : 1,000,000+\n",
      "SDA Sabbath School Quarterly : 500,000+\n",
      "Duaa Ek Ibaadat : 5,000+\n",
      "Spanish English Translator : 10,000,000+\n",
      "Dictionary - Merriam-Webster : 10,000,000+\n",
      "JW Library : 10,000,000+\n",
      "Oxford Dictionary of English : Free : 10,000,000+\n",
      "English Hindi Dictionary : 10,000,000+\n",
      "English to Hindi Dictionary : 5,000,000+\n",
      "EP Research Service : 1,000+\n",
      "Hymnes et Louanges : 100,000+\n",
      "EU Charter : 1,000+\n",
      "EU Data Protection : 1,000+\n",
      "EU IP Codes : 100+\n",
      "EW PDF : 5+\n",
      "BakaReader EX : 100,000+\n",
      "EZ Quran : 50,000+\n",
      "FA Part 1 & 2 Past Papers Solved Free – Offline : 5,000+\n",
      "La Fe de Jesus : 1,000+\n",
      "La Fe de Jesús : 500+\n",
      "Le Fe de Jesus : 500+\n",
      "Florida - Pocket Brainbook : 1,000+\n",
      "Florida Statutes (FL Code) : 1,000+\n",
      "English To Shona Dictionary : 10,000+\n",
      "Greek Bible FP (Audio) : 1,000+\n",
      "Golden Dictionary (FR-AR) : 500,000+\n",
      "Fanfic-FR : 5,000+\n",
      "Bulgarian French Dictionary Fr : 10,000+\n",
      "Chemin (fr) : 1,000+\n",
      "The SCP Foundation DB fr nn5n : 1,000+\n"
     ]
    }
   ],
   "source": [
    "for app in android_free:\n",
    "    if app[1] == 'BOOKS_AND_REFERENCE':\n",
    "        print(app[0],':',app[5])"
   ]
  },
  {
   "cell_type": "markdown",
   "id": "f368d408",
   "metadata": {},
   "source": [
    "This category contains a plethora of apps that range in functions from processing/reading books, collection of libraries, dictionaries to tutorials on different subjects. This category, however is also not exempt from some apps amassing most of the installs."
   ]
  },
  {
   "cell_type": "code",
   "execution_count": 36,
   "id": "cd3ce66e",
   "metadata": {},
   "outputs": [
    {
     "name": "stdout",
     "output_type": "stream",
     "text": [
      "Google Play Books : 1,000,000,000+\n",
      "Bible : 100,000,000+\n",
      "Amazon Kindle : 100,000,000+\n",
      "Wattpad 📖 Free Books : 100,000,000+\n",
      "Audiobooks from Audible : 100,000,000+\n"
     ]
    }
   ],
   "source": [
    "for app in android_free:\n",
    "    if app[1] == 'BOOKS_AND_REFERENCE' and (app[5] == '1,000,000,000+'\n",
    "                                            or app[5] == '500,000,000+'\n",
    "                                            or app[5] == '100,000,000+'):\n",
    "        print(app[0], ':', app[5])"
   ]
  },
  {
   "cell_type": "markdown",
   "id": "04a72c90",
   "metadata": {},
   "source": [
    "This niche seems to be dominated either by software for processing and reading ebooks or collections of libraries and dictionaries, so it's probably not a good idea to build similar apps since there'll be some significant competition.\n",
    "\n",
    "We also notice there are quite a few apps built around the book Quran, which suggests that building an app around a popular book can be profitable. It seems that taking a popular book (perhaps a more recent book) and turning it into an app could be profitable for both the Google Play and the App Store markets.\n",
    "\n",
    "For this we need to add some special features besides the raw version of the book which might include daily quotes from the book, its audio version, trivia section etc."
   ]
  },
  {
   "cell_type": "markdown",
   "id": "a359b73b",
   "metadata": {},
   "source": [
    "# Conclusions"
   ]
  },
  {
   "cell_type": "markdown",
   "id": "8a02352a",
   "metadata": {},
   "source": [
    "Going through the datasets for both digital stores, we can see that a gap exists in the 'Reference' category of mobile apps, more specifically around apps built on popular books. The gap was identified in both digital stores and going by research this app idea shows the most promise.\n",
    "\n",
    "An app of just the raw version of the book may not be enough and special features packaged in would be quite helpful. These could range from daily quotes from the book, its audio version, trivia section etc."
   ]
  }
 ],
 "metadata": {
  "kernelspec": {
   "display_name": "Python 3",
   "language": "python",
   "name": "python3"
  },
  "language_info": {
   "codemirror_mode": {
    "name": "ipython",
    "version": 3
   },
   "file_extension": ".py",
   "mimetype": "text/x-python",
   "name": "python",
   "nbconvert_exporter": "python",
   "pygments_lexer": "ipython3",
   "version": "3.8.8"
  }
 },
 "nbformat": 4,
 "nbformat_minor": 5
}
